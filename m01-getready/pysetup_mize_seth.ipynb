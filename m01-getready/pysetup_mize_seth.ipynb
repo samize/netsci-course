{
 "cells": [
  {
   "cell_type": "markdown",
   "metadata": {},
   "source": [
    "Since I recently got a new computer, I installed Python 3.8.1 on the system already. If it's okay, I will use that (as long as there are no issues).\n",
    "\n",
    "I did run into an issue when running jupyter notebook. there is an issue with the tornado library that required modification of the \\_\\_init\\_\\_.py file (thank you StackOverflow users for the fix: https://stackoverflow.com/questions/58422817/jupyter-notebook-with-python-3-8-notimplementederror).\n",
    "\n",
    "Aside from the typical Visual C++ 14.0 issues, everything installed fine."
   ]
  },
  {
   "cell_type": "code",
   "execution_count": 2,
   "metadata": {},
   "outputs": [
    {
     "name": "stdout",
     "output_type": "stream",
     "text": [
      "Hello world!\n"
     ]
    }
   ],
   "source": [
    "print('Hello world!')"
   ]
  },
  {
   "cell_type": "markdown",
   "metadata": {},
   "source": [
    "I understand everything on this tutorial: https://docs.python.org/3.7/tutorial/introduction.html"
   ]
  },
  {
   "cell_type": "markdown",
   "metadata": {},
   "source": [
    "I understand everything on this tutorial: https://docs.python.org/3.7/tutorial/controlflow.html"
   ]
  },
  {
   "cell_type": "code",
   "execution_count": 3,
   "metadata": {},
   "outputs": [],
   "source": [
    "import networkx as nx"
   ]
  },
  {
   "cell_type": "code",
   "execution_count": null,
   "metadata": {},
   "outputs": [],
   "source": []
  }
 ],
 "metadata": {
  "kernelspec": {
   "display_name": "Python 3",
   "language": "python",
   "name": "python3"
  },
  "language_info": {
   "codemirror_mode": {
    "name": "ipython",
    "version": 3
   },
   "file_extension": ".py",
   "mimetype": "text/x-python",
   "name": "python",
   "nbconvert_exporter": "python",
   "pygments_lexer": "ipython3",
   "version": "3.8.1"
  }
 },
 "nbformat": 4,
 "nbformat_minor": 4
}
